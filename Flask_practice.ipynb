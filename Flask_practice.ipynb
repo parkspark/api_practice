{
 "cells": [
  {
   "cell_type": "code",
   "execution_count": 5,
   "metadata": {},
   "outputs": [
    {
     "name": "stdout",
     "output_type": "stream",
     "text": [
      " * Serving Flask app '__main__'\n",
      " * Debug mode: off\n"
     ]
    },
    {
     "name": "stderr",
     "output_type": "stream",
     "text": [
      "WARNING: This is a development server. Do not use it in a production deployment. Use a production WSGI server instead.\n",
      " * Running on all addresses (0.0.0.0)\n",
      " * Running on http://127.0.0.1:5000\n",
      " * Running on http://39.113.27.145:5000\n",
      "Press CTRL+C to quit\n",
      "127.0.0.1 - - [30/Aug/2023 13:12:06] \"GET / HTTP/1.1\" 200 -\n"
     ]
    }
   ],
   "source": [
    "from flask import Flask, request, jsonify\n",
    "app = Flask(__name__)\n",
    "\n",
    "@app.route('/')\n",
    "def welcome():\n",
    "    return 'hello, my api server'\n",
    "\n",
    "if __name__ == '__main__':\n",
    "    app.run(host='0.0.0.0', port=5000)"
   ]
  },
  {
   "cell_type": "code",
   "execution_count": 9,
   "metadata": {},
   "outputs": [
    {
     "name": "stdout",
     "output_type": "stream",
     "text": [
      " * Serving Flask app '__main__'\n",
      " * Debug mode: off\n"
     ]
    },
    {
     "name": "stderr",
     "output_type": "stream",
     "text": [
      "WARNING: This is a development server. Do not use it in a production deployment. Use a production WSGI server instead.\n",
      " * Running on all addresses (0.0.0.0)\n",
      " * Running on http://127.0.0.1:5000\n",
      " * Running on http://39.113.27.145:5000\n",
      "Press CTRL+C to quit\n",
      "127.0.0.1 - - [30/Aug/2023 13:27:56] \"POST /predict HTTP/1.1\" 200 -\n",
      "127.0.0.1 - - [30/Aug/2023 13:33:17] \"GET / HTTP/1.1\" 200 -\n",
      "127.0.0.1 - - [30/Aug/2023 13:35:10] \"POST /predict HTTP/1.1\" 200 -\n"
     ]
    }
   ],
   "source": [
    "import numpy as np\n",
    "from sklearn.linear_model import LinearRegression\n",
    "\n",
    "from flask import Flask, request, jsonify\n",
    "\n",
    "app = Flask(__name__)\n",
    "\n",
    "np.random.seed(42)\n",
    "X = np.random.rand(10, 1)\n",
    "y = 2 * X + 1 + 0.1 * np.random.randn(10, 1)\n",
    "\n",
    "model = LinearRegression()\n",
    "model.fit(X, y)\n",
    "\n",
    "@app.route('/')\n",
    "def welcome():\n",
    "    return 'HELLO, ML API SERVER2'\n",
    "\n",
    "@app.route('/predict', methods=['POST'])\n",
    "def predict():\n",
    "    data = request.json\n",
    "    new_X = data['input']\n",
    "    y_pred = model.predict(np.array(float(new_X[0])).reshape(1, -1))\n",
    "    res = jsonify({'predicted_output': y_pred.tolist()})\n",
    "    return res\n",
    "\n",
    "if __name__ == '__main__':\n",
    "    app.run(host='0.0.0.0', port=5000)"
   ]
  },
  {
   "cell_type": "markdown",
   "metadata": {},
   "source": [
    "curl -d \"{\"\"input\"\":[\"\"0.8\"\"]}\" -H \"Content-Type: application/json\" -X POST http://localhost:5000/predict"
   ]
  },
  {
   "cell_type": "markdown",
   "metadata": {},
   "source": [
    "curl -d '{\"input\":[\"0.8\"]}' -H \"Content-Type: application/json\" -X POST http://localhost:5000/predict\n",
    "\n",
    "터미널 출력값 \n",
    "{\"predicted_output\":[[2.6414564407789607]]}\n",
    "\n",
    "항상 응답값이 잘뜨는지 이런식으로 확인한다.\n",
    "\n",
    "json 형태로 보냈는데 원하는 형태로 보내면 된다."
   ]
  },
  {
   "cell_type": "code",
   "execution_count": null,
   "metadata": {},
   "outputs": [],
   "source": [
    "\n",
    "\n"
   ]
  }
 ],
 "metadata": {
  "kernelspec": {
   "display_name": "Python 3",
   "language": "python",
   "name": "python3"
  },
  "language_info": {
   "codemirror_mode": {
    "name": "ipython",
    "version": 3
   },
   "file_extension": ".py",
   "mimetype": "text/x-python",
   "name": "python",
   "nbconvert_exporter": "python",
   "pygments_lexer": "ipython3",
   "version": "3.10.12"
  },
  "orig_nbformat": 4
 },
 "nbformat": 4,
 "nbformat_minor": 2
}
