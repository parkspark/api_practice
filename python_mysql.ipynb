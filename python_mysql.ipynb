{
 "cells": [
  {
   "cell_type": "markdown",
   "metadata": {},
   "source": [
    "https://velog.io/@seungsang00/Ubuntu-%EC%9A%B0%EB%B6%84%ED%88%AC%EC%97%90-MySQL-%EC%84%A4%EC%B9%98%ED%95%98%EA%B8%B0\n",
    "\n"
   ]
  },
  {
   "cell_type": "markdown",
   "metadata": {},
   "source": [
    "$ sudo systemctl start mysql\n",
    "\n",
    "Ubuntu 서버 재시작시 MySQL 자동 재시작\n",
    "\n",
    "$ sudo systemctl enable mysql\n",
    "\n",
    "MySQL 접속\n",
    "\n",
    "$ sudo /usr/bin/mysql -u root -p\n",
    "\n",
    "\n",
    "사용자 정보 확인\n",
    "mysql> SELECT User, Host, authentication_string FROM mysql.user;\n",
    "\n",
    "\n",
    "데이터 베이스 만들고 확인\n",
    "SHOW DATABASES;"
   ]
  },
  {
   "cell_type": "markdown",
   "metadata": {},
   "source": [
    "사용자 권한 부여시\n",
    "\n",
    "for가 아니라 to임\n",
    "GRANT ALL PRIVILEGES ON TESTDB.* TO 'testuser'@'localhost';"
   ]
  },
  {
   "cell_type": "markdown",
   "metadata": {},
   "source": [
    "SHOW GRANTS FOR 'testuser'@'localhost';\n"
   ]
  },
  {
   "cell_type": "markdown",
   "metadata": {},
   "source": [
    "pip install pymysql"
   ]
  },
  {
   "cell_type": "code",
   "execution_count": null,
   "metadata": {},
   "outputs": [],
   "source": []
  },
  {
   "cell_type": "code",
   "execution_count": 3,
   "metadata": {},
   "outputs": [
    {
     "ename": "TypeError",
     "evalue": "Connection.__init__() takes 1 positional argument but 5 were given",
     "output_type": "error",
     "traceback": [
      "\u001b[0;31m---------------------------------------------------------------------------\u001b[0m",
      "\u001b[0;31mTypeError\u001b[0m                                 Traceback (most recent call last)",
      "Cell \u001b[0;32mIn[3], line 3\u001b[0m\n\u001b[1;32m      1\u001b[0m \u001b[39mimport\u001b[39;00m \u001b[39mpymysql\u001b[39;00m\n\u001b[0;32m----> 3\u001b[0m db \u001b[39m=\u001b[39m pymysql\u001b[39m.\u001b[39;49mconnect(\u001b[39m\"\u001b[39;49m\u001b[39mlocalhost\u001b[39;49m\u001b[39m\"\u001b[39;49m, \u001b[39m\"\u001b[39;49m\u001b[39mtestuser\u001b[39;49m\u001b[39m\"\u001b[39;49m, \u001b[39m\"\u001b[39;49m\u001b[39mrkatkgkq1@\u001b[39;49m\u001b[39m\"\u001b[39;49m, \u001b[39m\"\u001b[39;49m\u001b[39mTESTDB\u001b[39;49m\u001b[39m\"\u001b[39;49m)\n",
      "\u001b[0;31mTypeError\u001b[0m: Connection.__init__() takes 1 positional argument but 5 were given"
     ]
    }
   ],
   "source": [
    "import pymysql\n",
    "\n",
    "db = pymysql.connect(\"localhost\", \"testuser\", \"비밀번호\", \"TESTDB\")"
   ]
  },
  {
   "cell_type": "code",
   "execution_count": 4,
   "metadata": {},
   "outputs": [
    {
     "name": "stdout",
     "output_type": "stream",
     "text": [
      "1.4.6\n"
     ]
    }
   ],
   "source": [
    "print(pymysql.__version__)"
   ]
  },
  {
   "cell_type": "code",
   "execution_count": 5,
   "metadata": {},
   "outputs": [],
   "source": [
    "db = pymysql.connect(host=\"localhost\", user=\"testuser\", password=\"rkatkgkq1@\", database=\"TESTDB\")\n"
   ]
  },
  {
   "cell_type": "code",
   "execution_count": 6,
   "metadata": {},
   "outputs": [],
   "source": [
    "cursor = db.cursor()"
   ]
  },
  {
   "cell_type": "markdown",
   "metadata": {},
   "source": [
    "cursor = db.cursor()는 pymysql 라이브러리를 사용하여 MySQL 데이터베이스와 상호작용할 때 매우 중요한 명령입니다. 이 명령은 데이터베이스에 대한 \"커서\" 객체를 생성합니다.\n",
    "\n",
    "커서란 무엇일까요? 커서는 SQL 쿼리의 결과를 가져오고, 그 결과를 한 번에 하나씩 순회할 수 있는 데이터베이스 컨텍스트입니다. 다시 말해, 커서는 SQL 쿼리의 실행을 제어하고 결과를 처리하는데 사용되는 객체입니다.\n",
    "\n",
    "db.cursor() 호출로 생성된 커서 객체는 다음과 같은 주요 메소드들을 가지고 있습니다:\n",
    "\n",
    "    execute(query, params): SQL 쿼리를 실행합니다. 필요에 따라 파라미터(params)도 함께 전달할 수 있습니다.\n",
    "    fetchone(): 쿼리 결과에서 다음 행을 반환합니다.\n",
    "    fetchall(): 쿼리 결과에서 모든 행을 반환합니다.\n",
    "    fetchmany(size): 쿼리 결과에서 지정된 개수(size)만큼의 행을 반환합니다.\n",
    "\n",
    "따라서, 파이썬으로 MySQL 데이터베이스와 상호작용하기 위해서는 우선 db.cursor()로 커서 객체를 만들고, 이 커서 객체의 메소드들(execute(), fetchone(), 등등)을 사용하여 SQL 명령을 실행하거나 그 결과를 처리하는 방식으로 작동됩니다.\n",
    "\n",
    "by GPT"
   ]
  },
  {
   "cell_type": "code",
   "execution_count": 7,
   "metadata": {},
   "outputs": [
    {
     "name": "stdout",
     "output_type": "stream",
     "text": [
      "Database version : 8.0.34-0ubuntu0.22.04.1 \n"
     ]
    }
   ],
   "source": [
    "# Execute the SQL command\n",
    "cursor.execute(\"SELECT VERSION()\")\n",
    "\n",
    "# Fetch a single row using fetchone() method.\n",
    "data = cursor.fetchone()\n",
    "\n",
    "print (\"Database version : %s \" % data)"
   ]
  },
  {
   "cell_type": "code",
   "execution_count": 8,
   "metadata": {},
   "outputs": [],
   "source": [
    "# disconnect from server # 반드시 커서를 닫아줘야함.\n",
    "db.close()"
   ]
  },
  {
   "cell_type": "markdown",
   "metadata": {},
   "source": [
    "# 이제 INSERT SELECT UPDATE DELETE 해볼거임"
   ]
  },
  {
   "cell_type": "code",
   "execution_count": 10,
   "metadata": {},
   "outputs": [],
   "source": [
    "db = pymysql.connect(host=\"localhost\", user=\"testuser\", password=\"rkatkgkq1@\", database=\"TESTDB\")\n"
   ]
  },
  {
   "cell_type": "code",
   "execution_count": 12,
   "metadata": {},
   "outputs": [],
   "source": [
    "cursor = db.cursor()"
   ]
  },
  {
   "cell_type": "code",
   "execution_count": 13,
   "metadata": {},
   "outputs": [
    {
     "name": "stdout",
     "output_type": "stream",
     "text": [
      "Table has been created successfully.\n"
     ]
    }
   ],
   "source": [
    "## 테이블 생성\n",
    "\n",
    "sql = \"\"\"\n",
    "CREATE TABLE employees (\n",
    "    id INT AUTO_INCREMENT PRIMARY KEY,\n",
    "    name VARCHAR(255),\n",
    "    salary FLOAT\n",
    ")\n",
    "\"\"\"\n",
    "\n",
    "\n",
    "try:\n",
    "    cursor.execute(sql)\n",
    "    print(\"Table has been created successfully.\")\n",
    "except Exception as e:\n",
    "    print(\"Error occurred:\", e)"
   ]
  },
  {
   "cell_type": "code",
   "execution_count": 14,
   "metadata": {},
   "outputs": [
    {
     "name": "stdout",
     "output_type": "stream",
     "text": [
      "Data has been inserted successfully.\n"
     ]
    }
   ],
   "source": [
    "## data insert\n",
    "\n",
    "sql = \"\"\"\n",
    "INSERT INTO employees(name, salary) \n",
    "VALUES ('John Doe', 50000), ('Jane Doe', 60000)\n",
    "\"\"\"\n",
    "\n",
    "try:\n",
    "    cursor.execute(sql)\n",
    "    db.commit()\n",
    "    print(\"Data has been inserted successfully.\")\n",
    "except Exception as e:\n",
    "    print(\"Error occurred:\", e)"
   ]
  },
  {
   "cell_type": "code",
   "execution_count": 15,
   "metadata": {},
   "outputs": [
    {
     "name": "stdout",
     "output_type": "stream",
     "text": [
      "(1, 'John Doe', 50000.0)\n",
      "(2, 'Jane Doe', 60000.0)\n"
     ]
    }
   ],
   "source": [
    "## data select(조회)\n",
    "\n",
    "sql = \"SELECT * FROM employees\"\n",
    "\n",
    "try:\n",
    "   cursor.execute(sql)\n",
    "\n",
    "   results = cursor.fetchall()  \n",
    "   for row in results:\n",
    "       print(row)\n",
    "\n",
    "except Exception as e: \n",
    "   print(\"Error occurred:\", e)  "
   ]
  },
  {
   "cell_type": "code",
   "execution_count": 20,
   "metadata": {},
   "outputs": [
    {
     "name": "stdout",
     "output_type": "stream",
     "text": [
      "Data has been updated successfully.\n"
     ]
    }
   ],
   "source": [
    "## data update(조회)\n",
    "\n",
    "sql = \"\"\"\n",
    "UPDATE employees \n",
    "SET salary=70000 \n",
    "WHERE name='John Doe'\n",
    "\"\"\"\n",
    "\n",
    "try:\n",
    "    cursor.execute(sql)\n",
    "    db.commit()\n",
    "    print(\"Data has been updated successfully.\")\n",
    "except Exception as e: \n",
    "   print(\"Error occurred:\", e)  \n",
    "   db.rollback()   \n",
    "\n"
   ]
  },
  {
   "cell_type": "code",
   "execution_count": 21,
   "metadata": {},
   "outputs": [
    {
     "name": "stdout",
     "output_type": "stream",
     "text": [
      "(1, 'John Doe', 70000.0)\n",
      "(2, 'Jane Doe', 60000.0)\n"
     ]
    }
   ],
   "source": [
    "sql = \"SELECT * FROM employees\"\n",
    "\n",
    "try:\n",
    "   cursor.execute(sql)\n",
    "\n",
    "   results = cursor.fetchall()  \n",
    "   for row in results:\n",
    "       print(row)\n",
    "\n",
    "except Exception as e: \n",
    "   print(\"Error occurred:\", e)  "
   ]
  },
  {
   "cell_type": "code",
   "execution_count": 22,
   "metadata": {},
   "outputs": [
    {
     "name": "stdout",
     "output_type": "stream",
     "text": [
      "Data has been deleted successfully.\n"
     ]
    }
   ],
   "source": [
    "sql = \"DELETE FROM employees WHERE name='Jane Doe'\"\n",
    "\n",
    "try:\n",
    "     cursor.execute(sql)\n",
    "     db.commit()\n",
    "     print(\"Data has been deleted successfully.\")\n",
    "  \n",
    "except Exception as e: \n",
    "     print(\"Error occurred:\", e)  \n",
    "     db.rollback()    "
   ]
  },
  {
   "cell_type": "code",
   "execution_count": 23,
   "metadata": {},
   "outputs": [
    {
     "name": "stdout",
     "output_type": "stream",
     "text": [
      "(1, 'John Doe', 70000.0)\n"
     ]
    }
   ],
   "source": [
    "sql = \"SELECT * FROM employees\"\n",
    "\n",
    "try:\n",
    "   cursor.execute(sql)\n",
    "\n",
    "   results = cursor.fetchall()  \n",
    "   for row in results:\n",
    "       print(row)\n",
    "\n",
    "except Exception as e: \n",
    "   print(\"Error occurred:\", e)  "
   ]
  }
 ],
 "metadata": {
  "kernelspec": {
   "display_name": "Python 3",
   "language": "python",
   "name": "python3"
  },
  "language_info": {
   "codemirror_mode": {
    "name": "ipython",
    "version": 3
   },
   "file_extension": ".py",
   "mimetype": "text/x-python",
   "name": "python",
   "nbconvert_exporter": "python",
   "pygments_lexer": "ipython3",
   "version": "3.10.12"
  },
  "orig_nbformat": 4
 },
 "nbformat": 4,
 "nbformat_minor": 2
}
